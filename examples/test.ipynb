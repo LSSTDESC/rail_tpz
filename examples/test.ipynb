{
 "cells": [
  {
   "cell_type": "code",
   "execution_count": 1,
   "id": "22762394-6412-4db9-a2b1-bfa4b9bdfe58",
   "metadata": {},
   "outputs": [],
   "source": [
    "import numpy as np\n",
    "import matplotlib.pyplot as plt\n",
    "import os\n",
    "import tables_io"
   ]
  },
  {
   "cell_type": "code",
   "execution_count": 2,
   "id": "42ac95af-256a-4a0b-bb89-ebe7a6a99cd1",
   "metadata": {},
   "outputs": [],
   "source": [
    "from rail.estimation.algos.tpz_lite import TPZliteInformer"
   ]
  },
  {
   "cell_type": "code",
   "execution_count": 3,
   "id": "2d18c2a4-38d8-4222-928e-8dd622a9d006",
   "metadata": {},
   "outputs": [],
   "source": [
    "from rail.core.utils import RAILDIR"
   ]
  },
  {
   "cell_type": "code",
   "execution_count": 4,
   "id": "4ab87691-a368-443d-86d3-6292f8161e8a",
   "metadata": {},
   "outputs": [
    {
     "data": {
      "text/plain": [
       "'/Users/sam/anaconda3/envs/mlztest/lib/python3.10/site-packages'"
      ]
     },
     "execution_count": 4,
     "metadata": {},
     "output_type": "execute_result"
    }
   ],
   "source": [
    "RAILDIR"
   ]
  },
  {
   "cell_type": "code",
   "execution_count": 5,
   "id": "b8d5174d-97c3-400e-99dd-720419b76e09",
   "metadata": {},
   "outputs": [],
   "source": [
    "datafile = os.path.join(RAILDIR,\"rail/examples_data/testdata/test_dc2_training_9816.hdf5\")"
   ]
  },
  {
   "cell_type": "code",
   "execution_count": 6,
   "id": "fd3fd8e7-b48a-485b-9047-c2d81b15c9f1",
   "metadata": {},
   "outputs": [],
   "source": [
    "import rail\n",
    "import qp\n",
    "from rail.core.data import TableHandle\n",
    "from rail.core.stage import RailStage"
   ]
  },
  {
   "cell_type": "code",
   "execution_count": 7,
   "id": "29b16c72-90d2-493f-9422-b99fb88e0a07",
   "metadata": {},
   "outputs": [],
   "source": [
    "DS = RailStage.data_store\n",
    "DS.__class__.allow_overwrite = True"
   ]
  },
  {
   "cell_type": "code",
   "execution_count": 8,
   "id": "1e2e549d-cf56-429b-9a4d-b49a05e86b20",
   "metadata": {},
   "outputs": [],
   "source": [
    "training_data = DS.read_file(\"training_data\", TableHandle, datafile)\n"
   ]
  },
  {
   "cell_type": "code",
   "execution_count": 9,
   "id": "c573f43d-9dd4-452f-ad18-51752b2d711e",
   "metadata": {},
   "outputs": [
    {
     "data": {
      "text/plain": [
       "OrderedDict([('photometry',\n",
       "              OrderedDict([('id',\n",
       "                            array([8062500000, 8062500062, 8062500124, ..., 8082681636, 8082693813,\n",
       "                                   8082707059])),\n",
       "                           ('mag_err_g_lsst',\n",
       "                            array([0.00500126, 0.00508365, 0.00505737, ..., 0.01664717, 0.03818999,\n",
       "                                   0.05916394], dtype=float32)),\n",
       "                           ('mag_err_i_lsst',\n",
       "                            array([0.00500074, 0.00507535, 0.00501555, ..., 0.0153863 , 0.03277681,\n",
       "                                   0.04307469], dtype=float32)),\n",
       "                           ('mag_err_r_lsst',\n",
       "                            array([0.00500058, 0.00504773, 0.00501542, ..., 0.0122792 , 0.02692565,\n",
       "                                   0.03255744], dtype=float32)),\n",
       "                           ('mag_err_u_lsst',\n",
       "                            array([0.00504562, 0.00955173, 0.01114765, ..., 0.20123477, 0.7962344 ,\n",
       "                                   0.99701214], dtype=float32)),\n",
       "                           ('mag_err_y_lsst',\n",
       "                            array([0.00500337, 0.00580441, 0.005063  , ..., 0.0662687 , 0.14290111,\n",
       "                                   0.15717329], dtype=float32)),\n",
       "                           ('mag_err_z_lsst',\n",
       "                            array([0.0050014 , 0.0051933 , 0.00502286, ..., 0.0272381 , 0.06901625,\n",
       "                                   0.07261812], dtype=float32)),\n",
       "                           ('mag_g_lsst',\n",
       "                            array([16.960892, 20.709402, 20.437067, ..., 24.11405 , 25.068745,\n",
       "                                   25.552408], dtype=float32)),\n",
       "                           ('mag_i_lsst',\n",
       "                            array([16.50631 , 20.437565, 19.31263 , ..., 23.711334, 24.587885,\n",
       "                                   24.891462], dtype=float32)),\n",
       "                           ('mag_r_lsst',\n",
       "                            array([16.653412, 20.533852, 19.709715, ..., 23.828472, 24.770744,\n",
       "                                   24.984402], dtype=float32)),\n",
       "                           ('mag_u_lsst',\n",
       "                            array([18.040369, 21.61559 , 21.851952, ..., 25.185795, 26.682219,\n",
       "                                   26.926563], dtype=float32)),\n",
       "                           ('mag_y_lsst',\n",
       "                            array([16.423904, 20.38821 , 18.770441, ..., 23.83491 , 24.673431,\n",
       "                                   24.777039], dtype=float32)),\n",
       "                           ('mag_z_lsst',\n",
       "                            array([16.466377, 20.408886, 18.953411, ..., 23.75624 , 24.786388,\n",
       "                                   24.842054], dtype=float32)),\n",
       "                           ('redshift',\n",
       "                            array([0.02043499, 0.01936132, 0.03672067, ..., 2.97927326, 2.98694714,\n",
       "                                   2.97646626]))]))])"
      ]
     },
     "execution_count": 9,
     "metadata": {},
     "output_type": "execute_result"
    }
   ],
   "source": [
    "training_data()"
   ]
  },
  {
   "cell_type": "code",
   "execution_count": 10,
   "id": "0fecba50-6ef5-4c0a-8632-ed4e9cca8e49",
   "metadata": {},
   "outputs": [],
   "source": [
    "tpz_dict = dict(zmin=0.0, zmax=3.0, nzbins=301, hdf5_groupname='photometry', ref_band=\"mag_i_lsst\", nrandom=3)"
   ]
  },
  {
   "cell_type": "code",
   "execution_count": 11,
   "id": "6d3696e1-5604-4283-8043-e39722aa0a4d",
   "metadata": {},
   "outputs": [],
   "source": [
    "pz_train = TPZliteInformer.make_stage(name='inform_TPZ', model='demo_tpz.pkl', **tpz_dict)"
   ]
  },
  {
   "cell_type": "code",
   "execution_count": 12,
   "id": "7dcc22c4-eae9-4f13-9e26-7133b4684051",
   "metadata": {},
   "outputs": [
    {
     "name": "stdout",
     "output_type": "stream",
     "text": [
      "creating 3 random realizations...\n",
      "making a total of 15 trees for 3 random realizations * 5 bootstraps\n",
      "making 1 of 15...\n",
      "making 2 of 15...\n",
      "making 3 of 15...\n",
      "making 4 of 15...\n",
      "making 5 of 15...\n",
      "making 6 of 15...\n",
      "making 7 of 15...\n",
      "making 8 of 15...\n",
      "making 9 of 15...\n",
      "making 10 of 15...\n",
      "making 11 of 15...\n",
      "making 12 of 15...\n",
      "making 13 of 15...\n",
      "making 14 of 15...\n",
      "making 15 of 15...\n",
      "Inserting handle into data store.  model_inform_TPZ: inprogress_demo_tpz.pkl, inform_TPZ\n"
     ]
    },
    {
     "data": {
      "text/plain": [
       "<rail.core.data.ModelHandle at 0x142848250>"
      ]
     },
     "execution_count": 12,
     "metadata": {},
     "output_type": "execute_result"
    }
   ],
   "source": [
    "pz_train.inform(training_data)"
   ]
  },
  {
   "cell_type": "markdown",
   "id": "67f21022-6af9-4c9a-9690-e27fe12e8f1e",
   "metadata": {},
   "source": [
    "# try estimate!"
   ]
  },
  {
   "cell_type": "code",
   "execution_count": 13,
   "id": "e130988e-db5d-4d73-a9b3-2297b600bf8c",
   "metadata": {},
   "outputs": [],
   "source": [
    "from rail.estimation.algos.tpz_lite import TPZliteEstimator"
   ]
  },
  {
   "cell_type": "code",
   "execution_count": 14,
   "id": "4d39d9e4-a074-4032-935c-0adf49901482",
   "metadata": {},
   "outputs": [],
   "source": [
    "testfile = os.path.join(RAILDIR,\"rail/examples_data/testdata/test_dc2_validation_9816.hdf5\")"
   ]
  },
  {
   "cell_type": "code",
   "execution_count": 15,
   "id": "79934d1a-2685-41b8-90f3-705b9544881e",
   "metadata": {},
   "outputs": [],
   "source": [
    "test_data = DS.read_file(\"test_data\", TableHandle, testfile)\n"
   ]
  },
  {
   "cell_type": "code",
   "execution_count": 16,
   "id": "47abce63-cac8-4576-8933-148d86b2bd9a",
   "metadata": {},
   "outputs": [],
   "source": [
    "#test_data()"
   ]
  },
  {
   "cell_type": "code",
   "execution_count": 17,
   "id": "bb6d578f-ef53-4cd6-a059-7c23f2c3b06b",
   "metadata": {},
   "outputs": [],
   "source": [
    "test_dict = dict(hdf5_groupname='photometry', ref_band=\"mag_i_lsst\")"
   ]
  },
  {
   "cell_type": "code",
   "execution_count": 18,
   "id": "f19eabc1-ee1c-4edc-9538-02033e386f20",
   "metadata": {},
   "outputs": [],
   "source": [
    "test_runner = TPZliteEstimator.make_stage(name=\"test_tpz\", model=pz_train.get_handle('model'), **test_dict)"
   ]
  },
  {
   "cell_type": "code",
   "execution_count": 19,
   "id": "ddbf0c9b-57fb-40de-b24a-ba8da6573850",
   "metadata": {},
   "outputs": [
    {
     "name": "stdout",
     "output_type": "stream",
     "text": [
      "Process 0 running estimator on chunk 0 - 10000\n"
     ]
    },
    {
     "name": "stderr",
     "output_type": "stream",
     "text": [
      "/Users/sam/TMP/TPZ_LITE/TPZ_lite_exp/src/rail/estimation/algos/mlz_utils/utils_mlz.py:512: RuntimeWarning: divide by zero encountered in scalar divide\n",
      "  ef = ((e68 - e681) / (area - area1)) * (0.68 - area1) + e681\n"
     ]
    },
    {
     "name": "stdout",
     "output_type": "stream",
     "text": [
      "Inserting handle into data store.  output_test_tpz: inprogress_output_test_tpz.hdf5, test_tpz\n",
      "Process 0 running estimator on chunk 10000 - 20000\n",
      "Process 0 running estimator on chunk 20000 - 20449\n"
     ]
    }
   ],
   "source": [
    "res = test_runner.estimate(test_data)"
   ]
  },
  {
   "cell_type": "code",
   "execution_count": null,
   "id": "2f9b4210-cce6-4106-aacc-689dd7a76852",
   "metadata": {},
   "outputs": [],
   "source": []
  },
  {
   "cell_type": "code",
   "execution_count": null,
   "id": "648e55e7-873e-40fb-8266-9aff921ae18c",
   "metadata": {},
   "outputs": [],
   "source": []
  },
  {
   "cell_type": "code",
   "execution_count": null,
   "id": "22299c1c-6c28-4fa1-99eb-233e8d7184c2",
   "metadata": {},
   "outputs": [],
   "source": []
  },
  {
   "cell_type": "code",
   "execution_count": null,
   "id": "547cedb1-bc08-4cc7-ab2e-b55b70b60ef9",
   "metadata": {},
   "outputs": [],
   "source": []
  },
  {
   "cell_type": "markdown",
   "id": "ed4ccf00-a9f6-4408-ae64-b3eac8ac3b5a",
   "metadata": {},
   "source": [
    "# test opening the model file"
   ]
  },
  {
   "cell_type": "code",
   "execution_count": 20,
   "id": "1a5ad986-02c4-4910-880c-4b6fa25271c9",
   "metadata": {},
   "outputs": [],
   "source": [
    "import pickle"
   ]
  },
  {
   "cell_type": "code",
   "execution_count": 21,
   "id": "81f65931-45f3-49db-9e91-e66609b79737",
   "metadata": {},
   "outputs": [],
   "source": [
    "with open(\"demo_tpz.pkl\", \"rb\") as f:\n",
    "    model = pickle.load(f)"
   ]
  },
  {
   "cell_type": "code",
   "execution_count": 22,
   "id": "928e9b54-3290-4faf-98ad-eabf10a8351c",
   "metadata": {},
   "outputs": [
    {
     "data": {
      "text/plain": [
       "dict_keys(['trainkeys', 'treedict', 'use_atts', 'zmin', 'zmax', 'nzbins', 'att_dict', 'keyatt', 'nrandom', 'ntrees', 'minleaf', 'natt', 'sigmafactor', 'bands', 'rmsfactor'])"
      ]
     },
     "execution_count": 22,
     "metadata": {},
     "output_type": "execute_result"
    }
   ],
   "source": [
    "model.keys()"
   ]
  },
  {
   "cell_type": "code",
   "execution_count": 23,
   "id": "43d2aca3-99ce-4c90-afeb-c09622d72acf",
   "metadata": {},
   "outputs": [],
   "source": [
    "# save a tree with np.save to match what TPZ does\n",
    "extree = model['treedict']['tree_2']"
   ]
  },
  {
   "cell_type": "code",
   "execution_count": 24,
   "id": "ba3e8442-990d-459c-a22f-bab565afa450",
   "metadata": {},
   "outputs": [
    {
     "data": {
      "text/plain": [
       "{'tree_0': <rail.estimation.algos.ml_codes.TPZ.Rtree at 0x145474c10>,\n",
       " 'tree_1': <rail.estimation.algos.ml_codes.TPZ.Rtree at 0x146d93ca0>,\n",
       " 'tree_2': <rail.estimation.algos.ml_codes.TPZ.Rtree at 0x145626c20>,\n",
       " 'tree_3': <rail.estimation.algos.ml_codes.TPZ.Rtree at 0x144a2efe0>,\n",
       " 'tree_4': <rail.estimation.algos.ml_codes.TPZ.Rtree at 0x144ca0670>,\n",
       " 'tree_5': <rail.estimation.algos.ml_codes.TPZ.Rtree at 0x1470ffcd0>,\n",
       " 'tree_6': <rail.estimation.algos.ml_codes.TPZ.Rtree at 0x147475ba0>,\n",
       " 'tree_7': <rail.estimation.algos.ml_codes.TPZ.Rtree at 0x1478966e0>,\n",
       " 'tree_8': <rail.estimation.algos.ml_codes.TPZ.Rtree at 0x147ce5f30>,\n",
       " 'tree_9': <rail.estimation.algos.ml_codes.TPZ.Rtree at 0x152f05090>,\n",
       " 'tree_10': <rail.estimation.algos.ml_codes.TPZ.Rtree at 0x153337c40>,\n",
       " 'tree_11': <rail.estimation.algos.ml_codes.TPZ.Rtree at 0x1577655d0>,\n",
       " 'tree_12': <rail.estimation.algos.ml_codes.TPZ.Rtree at 0x157b8f820>,\n",
       " 'tree_13': <rail.estimation.algos.ml_codes.TPZ.Rtree at 0x16970d300>,\n",
       " 'tree_14': <rail.estimation.algos.ml_codes.TPZ.Rtree at 0x169b58ac0>}"
      ]
     },
     "execution_count": 24,
     "metadata": {},
     "output_type": "execute_result"
    }
   ],
   "source": [
    "model['treedict']"
   ]
  },
  {
   "cell_type": "code",
   "execution_count": 25,
   "id": "fb0f8adf-dfb9-4c98-9e62-f9b67cd83b90",
   "metadata": {},
   "outputs": [],
   "source": [
    "np.save(\"testtree.npy\", extree, allow_pickle=True)"
   ]
  },
  {
   "cell_type": "code",
   "execution_count": 26,
   "id": "b38d170f-3437-4ddd-9fc9-3516f6e7d71e",
   "metadata": {},
   "outputs": [],
   "source": [
    "loadtree = np.load(\"testtree.npy\", allow_pickle=True)"
   ]
  },
  {
   "cell_type": "code",
   "execution_count": 27,
   "id": "67ae3699-2973-47c5-8b13-3734d51a5ee8",
   "metadata": {},
   "outputs": [
    {
     "data": {
      "text/plain": [
       "array(<rail.estimation.algos.ml_codes.TPZ.Rtree object at 0x144f116c0>,\n",
       "      dtype=object)"
      ]
     },
     "execution_count": 27,
     "metadata": {},
     "output_type": "execute_result"
    }
   ],
   "source": [
    "loadtree"
   ]
  },
  {
   "cell_type": "code",
   "execution_count": 28,
   "id": "b1be57e1-4a3b-43f9-9217-b452bdece863",
   "metadata": {},
   "outputs": [],
   "source": [
    "xx = loadtree.item()"
   ]
  },
  {
   "cell_type": "code",
   "execution_count": 29,
   "id": "5ea91912-1a55-4aa7-b423-7c56ceecff6f",
   "metadata": {},
   "outputs": [
    {
     "data": {
      "text/plain": [
       "<rail.estimation.algos.ml_codes.TPZ.Rtree at 0x144f116c0>"
      ]
     },
     "execution_count": 29,
     "metadata": {},
     "output_type": "execute_result"
    }
   ],
   "source": [
    "xx"
   ]
  },
  {
   "cell_type": "code",
   "execution_count": 30,
   "id": "fddf0f1a-8e68-4581-80cd-e5ab00dab19c",
   "metadata": {},
   "outputs": [],
   "source": [
    "xdd = xx.dict_dim"
   ]
  },
  {
   "cell_type": "code",
   "execution_count": 31,
   "id": "d9c03756-3447-448c-8b7a-65bb100f2248",
   "metadata": {},
   "outputs": [
    {
     "data": {
      "text/plain": [
       "'all'"
      ]
     },
     "execution_count": 31,
     "metadata": {},
     "output_type": "execute_result"
    }
   ],
   "source": [
    "xdd"
   ]
  },
  {
   "cell_type": "code",
   "execution_count": 32,
   "id": "d5b3ba5a-1f81-468d-81f3-785b000e1f5e",
   "metadata": {},
   "outputs": [],
   "source": [
    "# pull out data same way it is done in code"
   ]
  },
  {
   "cell_type": "code",
   "execution_count": 33,
   "id": "872ada6f-476e-459c-accf-62aaa2da0b9a",
   "metadata": {},
   "outputs": [],
   "source": [
    "from rail.estimation.algos.mlz_utils import data"
   ]
  },
  {
   "cell_type": "code",
   "execution_count": 34,
   "id": "aa895e1b-d9cd-43f5-b20a-787a50e557d5",
   "metadata": {},
   "outputs": [],
   "source": [
    "inputdata = test_data()['photometry']\n",
    "Ng_temp = np.array(list(inputdata.values()))\n",
    "testkeys = list(test_data()['photometry'].keys())"
   ]
  },
  {
   "cell_type": "code",
   "execution_count": 35,
   "id": "1fe5f81d-0ef1-4117-bcb0-9e17c0a80b89",
   "metadata": {},
   "outputs": [
    {
     "data": {
      "text/plain": [
       "array([[8.06250000e+09, 8.06250003e+09, 8.06250006e+09, ...,\n",
       "        8.08269386e+09, 8.08270064e+09, 8.08270714e+09],\n",
       "       [5.05747600e-03, 5.04860934e-03, 5.01400605e-03, ...,\n",
       "        3.20556425e-02, 3.61963399e-02, 3.40182148e-02],\n",
       "       [5.01721911e-03, 5.02923271e-03, 5.00793941e-03, ...,\n",
       "        3.60456705e-02, 3.88294198e-02, 3.82704698e-02],\n",
       "       ...,\n",
       "       [1.90898361e+01, 1.96379852e+01, 1.85592480e+01, ...,\n",
       "        2.52381458e+01, 2.49651814e+01, 2.50031528e+01],\n",
       "       [1.91976585e+01, 1.96890240e+01, 1.86532288e+01, ...,\n",
       "        2.47688522e+01, 2.49558201e+01, 2.49272480e+01],\n",
       "       [2.30460936e-02, 2.18762275e-02, 4.41930996e-02, ...,\n",
       "        3.02101440e+00, 2.98104019e+00, 2.95916868e+00]])"
      ]
     },
     "execution_count": 35,
     "metadata": {},
     "output_type": "execute_result"
    }
   ],
   "source": [
    "Ng_temp"
   ]
  },
  {
   "cell_type": "code",
   "execution_count": 36,
   "id": "053d5113-0738-4edb-82a5-eceae70a0d95",
   "metadata": {},
   "outputs": [
    {
     "data": {
      "text/plain": [
       "['id',\n",
       " 'mag_err_g_lsst',\n",
       " 'mag_err_i_lsst',\n",
       " 'mag_err_r_lsst',\n",
       " 'mag_err_u_lsst',\n",
       " 'mag_err_y_lsst',\n",
       " 'mag_err_z_lsst',\n",
       " 'mag_g_lsst',\n",
       " 'mag_i_lsst',\n",
       " 'mag_r_lsst',\n",
       " 'mag_u_lsst',\n",
       " 'mag_y_lsst',\n",
       " 'mag_z_lsst',\n",
       " 'redshift']"
      ]
     },
     "execution_count": 36,
     "metadata": {},
     "output_type": "execute_result"
    }
   ],
   "source": [
    "testkeys"
   ]
  },
  {
   "cell_type": "code",
   "execution_count": 37,
   "id": "5404bdb5-ffc0-4244-a435-0556acdc6cc8",
   "metadata": {},
   "outputs": [],
   "source": [
    "Ng = np.array(Ng_temp, 'i')"
   ]
  },
  {
   "cell_type": "code",
   "execution_count": 38,
   "id": "333f2123-7131-4da0-b6f6-ef7cd659a872",
   "metadata": {},
   "outputs": [
    {
     "data": {
      "text/plain": [
       "array([[-527434591, -527434560, -527434529, ..., -507240737, -507233948,\n",
       "        -507227451],\n",
       "       [         0,          0,          0, ...,          0,          0,\n",
       "                 0],\n",
       "       [         0,          0,          0, ...,          0,          0,\n",
       "                 0],\n",
       "       ...,\n",
       "       [        19,         19,         18, ...,         25,         24,\n",
       "                25],\n",
       "       [        19,         19,         18, ...,         24,         24,\n",
       "                24],\n",
       "       [         0,          0,          0, ...,          3,          2,\n",
       "                 2]], dtype=int32)"
      ]
     },
     "execution_count": 38,
     "metadata": {},
     "output_type": "execute_result"
    }
   ],
   "source": [
    "Ng"
   ]
  },
  {
   "cell_type": "code",
   "execution_count": 39,
   "id": "3d48fe9e-0bd4-4e5d-8797-b9947443ba1d",
   "metadata": {},
   "outputs": [
    {
     "data": {
      "text/plain": [
       "(20449, 14)"
      ]
     },
     "execution_count": 39,
     "metadata": {},
     "output_type": "execute_result"
    }
   ],
   "source": [
    "Ng_temp.T.shape"
   ]
  },
  {
   "cell_type": "code",
   "execution_count": 40,
   "id": "04b3311c-987e-463c-8bb7-a2b6876d1fc6",
   "metadata": {},
   "outputs": [],
   "source": [
    "class objfromdict(object):\n",
    "    def __init__(self, d):\n",
    "        for k, v in d.items():\n",
    "            setattr(self, k, v)"
   ]
  },
  {
   "cell_type": "code",
   "execution_count": 41,
   "id": "f5def9f3-90c9-48d8-82b9-2384fbb646c6",
   "metadata": {},
   "outputs": [],
   "source": [
    "modelatt = objfromdict(model)"
   ]
  },
  {
   "cell_type": "code",
   "execution_count": 42,
   "id": "e2c2b362-fe61-4921-ad9e-2da033f9e1ae",
   "metadata": {},
   "outputs": [],
   "source": [
    "test_att_dict={'mag_g_lsst': {'type': 'real', 'ind': 1, 'eind': 7},\n",
    "                   'mag_i_lsst': {'type': 'real', 'ind': 2, 'eind': 8},\n",
    "                   'mag_r_lsst': {'type': 'real', 'ind': 3, 'eind': 9},\n",
    "                   'mag_u_lsst': {'type': 'real', 'ind': 4, 'eind': 10},\n",
    "                   'mag_y_lsst': {'type': 'real', 'ind': 5, 'eind': 11},\n",
    "                   'mag_z_lsst': {'type': 'real', 'ind': 6, 'eind': 12},\n",
    "                   'redshift': {'type': 'real', 'ind': -1, 'eind': -1}}"
   ]
  },
  {
   "cell_type": "code",
   "execution_count": 43,
   "id": "dda53607-3ae7-412b-adfb-482762c2fa3c",
   "metadata": {},
   "outputs": [],
   "source": [
    "Test = data.catalog(modelatt, Ng_temp.T, testkeys, modelatt.use_atts, test_att_dict)"
   ]
  },
  {
   "cell_type": "code",
   "execution_count": 44,
   "id": "ea32d0b0-022f-441e-adba-173627893795",
   "metadata": {},
   "outputs": [],
   "source": [
    "Test.get_XY()"
   ]
  },
  {
   "cell_type": "code",
   "execution_count": 45,
   "id": "6703cced-45c1-407e-af3a-18c55c31b39d",
   "metadata": {},
   "outputs": [
    {
     "data": {
      "text/plain": [
       "array([[1.12391384e-02, 5.05747600e-03, 5.01634413e-03, 5.01721911e-03,\n",
       "        5.03180083e-03, 5.10173244e-03],\n",
       "       [7.49955885e-03, 5.04860934e-03, 5.02237631e-03, 5.02923271e-03,\n",
       "        5.06408280e-03, 5.24003245e-03],\n",
       "       [5.64152608e-03, 5.01400605e-03, 5.00636036e-03, 5.00793941e-03,\n",
       "        5.01549384e-03, 5.04636532e-03],\n",
       "       ...,\n",
       "       [2.66208248e+01, 3.20556425e-02, 2.37318054e-02, 3.60456705e-02,\n",
       "        6.79195374e-02, 2.40162894e-01],\n",
       "       [4.04541135e-01, 3.61963399e-02, 2.55193245e-02, 3.88294198e-02,\n",
       "        8.05819854e-02, 1.86846241e-01],\n",
       "       [1.19701362e+00, 3.40182148e-02, 2.62609888e-02, 3.82704698e-02,\n",
       "        7.85020068e-02, 1.93484738e-01]])"
      ]
     },
     "execution_count": 45,
     "metadata": {},
     "output_type": "execute_result"
    }
   ],
   "source": [
    "Test.X"
   ]
  },
  {
   "cell_type": "code",
   "execution_count": 46,
   "id": "1c674f71-e0b4-493a-9d6c-796778e43013",
   "metadata": {},
   "outputs": [
    {
     "data": {
      "text/plain": [
       "20449"
      ]
     },
     "execution_count": 46,
     "metadata": {},
     "output_type": "execute_result"
    }
   ],
   "source": [
    "Test.nobj"
   ]
  },
  {
   "cell_type": "code",
   "execution_count": null,
   "id": "32f338eb-83f0-42c4-be86-2ce1a218250a",
   "metadata": {},
   "outputs": [],
   "source": []
  }
 ],
 "metadata": {
  "kernelspec": {
   "display_name": "Python 3 (ipykernel)",
   "language": "python",
   "name": "python3"
  },
  "language_info": {
   "codemirror_mode": {
    "name": "ipython",
    "version": 3
   },
   "file_extension": ".py",
   "mimetype": "text/x-python",
   "name": "python",
   "nbconvert_exporter": "python",
   "pygments_lexer": "ipython3",
   "version": "3.10.12"
  }
 },
 "nbformat": 4,
 "nbformat_minor": 5
}
